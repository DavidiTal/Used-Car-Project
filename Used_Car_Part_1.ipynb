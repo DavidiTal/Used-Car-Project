{
 "cells": [
  {
   "cell_type": "markdown",
   "id": "2fc6fdf2-1678-4e74-a08f-598292d52e6a",
   "metadata": {},
   "source": [
    "<h2> Tal Davidi : 208871376 </h2>\n",
    "<h4> Skoda 2003-2024 Data</h4>"
   ]
  },
  {
   "cell_type": "code",
   "execution_count": null,
   "id": "eb8e60f8-2a6e-4189-a586-c91e5487e5a3",
   "metadata": {},
   "outputs": [],
   "source": [
    "import requests\n",
    "from bs4 import BeautifulSoup\n",
    "import pandas as pd\n",
    "import numpy as np\n"
   ]
  },
  {
   "cell_type": "code",
   "execution_count": null,
   "id": "e232cf46-1818-4ed5-933c-0e3b9be21e13",
   "metadata": {},
   "outputs": [],
   "source": []
  },
  {
   "cell_type": "markdown",
   "id": "c6e181ca-250a-45e5-8da9-998823052885",
   "metadata": {
    "tags": []
   },
   "source": [
    "### First Part - Get the Skoda Data from web"
   ]
  },
  {
   "cell_type": "code",
   "execution_count": null,
   "id": "2852e8ba-629a-47f6-aaca-52a4be9b0543",
   "metadata": {},
   "outputs": [],
   "source": [
    "def get_car(keywords):\n",
    "    car_list = list()\n",
    "    page = 1\n",
    "    \n",
    "    while True:\n",
    "        url = f\"https://www.ad.co.il/car?keyword={keywords}&pageindex={page}\"\n",
    "        \n",
    "        try:\n",
    "            response = requests.get(url)\n",
    "            if response.status_code != 200:\n",
    "                return None\n",
    "            \n",
    "            results_page = BeautifulSoup(response.content, 'html.parser')\n",
    "            cars = results_page.find_all('div', {'class': \"card-body p-md-3\"})\n",
    "            if keywords.split()[0] not in cars[0].get_text():\n",
    "                break\n",
    "            \n",
    "            for car in cars:\n",
    "                car_link = \"https://www.ad.co.il\" + car.find('a').get('href')\n",
    "                car_name = car.find('a').get_text()\n",
    "                \n",
    "                try:\n",
    "                    car_price = car.find('div', {'class': 'price ms-1'}).get_text()\n",
    "                except:\n",
    "                    car_price = ''\n",
    "                    \n",
    "                car_list.append((car_name, car_link, car_price))\n",
    "            \n",
    "            page += 1\n",
    "           # time.sleep(1)  # השהייה של 1 שניות בין הבקשות\n",
    "            \n",
    "        except Exception as e:\n",
    "            print(f\"An error occurred on page {page}: {e}\")\n",
    "            break\n",
    "            \n",
    "    \n",
    "    return car_list\n"
   ]
  },
  {
   "cell_type": "code",
   "execution_count": null,
   "id": "7329fd22-8fbf-4ffe-b6ce-759fdc3bc3b6",
   "metadata": {
    "scrolled": true,
    "tags": []
   },
   "outputs": [],
   "source": [
    "get_car(\"סקודה\")"
   ]
  },
  {
   "cell_type": "code",
   "execution_count": null,
   "id": "4d750faa-0bc6-4818-be3e-bf1328f12393",
   "metadata": {},
   "outputs": [],
   "source": []
  },
  {
   "cell_type": "code",
   "execution_count": null,
   "id": "27927be7-d519-4eb8-9be8-001afdb70c02",
   "metadata": {},
   "outputs": [],
   "source": [
    "import requests\n",
    "from bs4 import BeautifulSoup\n",
    "\n",
    "def get_car_details(url):\n",
    "    try:\n",
    "        response = requests.get(url)\n",
    "        if response.status_code != 200:\n",
    "            return None\n",
    "        \n",
    "        car_details = {}\n",
    "        car_page = BeautifulSoup(response.content, 'html.parser')\n",
    "        table_rows = car_page.find_all('tr')\n",
    "        \n",
    "        for row in table_rows:\n",
    "            cols = row.find_all('td')\n",
    "            if len(cols) == 2:\n",
    "                key = cols[0].get_text().strip()\n",
    "                value = cols[1].get_text().strip()\n",
    "                car_details[key] = value\n",
    "        \n",
    "        photos = car_page.find_all('div', {'class': \"justify-content-center px-1\"})\n",
    "        num_of_photos = len(photos)\n",
    "        car_details[\"Pic_num\"] = num_of_photos\n",
    "        \n",
    "        dates = car_page.find_all('div', {'class': \"px-3\"})\n",
    "        if len(dates) >= 2:\n",
    "            car_details[\"Cre_date\"] = dates[0].get_text().strip()\n",
    "            car_details[\"Repub_date\"] = dates[1].get_text().strip()\n",
    "        \n",
    "        description = car_page.find('p', {'class': \"text-word-break\"})\n",
    "        if description :     \n",
    "            car_details[\"Description\"] = description.get_text().strip()\n",
    "        else:\n",
    "            car_details[\"Description\"] = ''\n",
    "            \n",
    "        \n",
    "        \n",
    "        \n",
    "        return car_details\n",
    "    except Exception as e:\n",
    "        print(f\"An error occurred while fetching details from {url}: {e}\")\n",
    "        return None"
   ]
  },
  {
   "cell_type": "code",
   "execution_count": null,
   "id": "b1fa8114-a850-4b32-8f1a-c2129aea026b",
   "metadata": {},
   "outputs": [],
   "source": [
    "get_car_details(\"https://www.ad.co.il/ad/16186942\")"
   ]
  },
  {
   "cell_type": "code",
   "execution_count": null,
   "id": "155ab48d-6c02-4aca-bfef-2ef4dbe164b4",
   "metadata": {},
   "outputs": [],
   "source": []
  },
  {
   "cell_type": "code",
   "execution_count": null,
   "id": "1dde621c-6e50-441b-b958-924a6bbcf3e6",
   "metadata": {},
   "outputs": [],
   "source": []
  },
  {
   "cell_type": "code",
   "execution_count": null,
   "id": "314bc815-0da5-4677-8a6c-10615679ce42",
   "metadata": {},
   "outputs": [],
   "source": [
    "def get_all_cars(keywords):\n",
    "    results = list()\n",
    "    all_cars = get_car(keywords)\n",
    "    for car in all_cars:\n",
    "        car_dict = {}\n",
    "        car_dict['name'] = car[0]\n",
    "        car_dict['price'] = car[2]\n",
    "        details = get_car_details(car[1]) \n",
    "        for key,value in details.items() :\n",
    "            car_dict[key] = value\n",
    "     \n",
    "        results.append(car_dict)\n",
    "    return(results)"
   ]
  },
  {
   "cell_type": "code",
   "execution_count": null,
   "id": "1a164563-9f77-40e2-8c64-ec5431c3d0b2",
   "metadata": {},
   "outputs": [],
   "source": [
    "data = get_all_cars(\"סקודה\")"
   ]
  },
  {
   "cell_type": "code",
   "execution_count": null,
   "id": "d964d816-0512-44a4-ab40-301adcb972a7",
   "metadata": {},
   "outputs": [],
   "source": []
  },
  {
   "cell_type": "code",
   "execution_count": null,
   "id": "406ea116-ce61-4cce-871e-157b8f20d8e3",
   "metadata": {},
   "outputs": [],
   "source": []
  },
  {
   "cell_type": "markdown",
   "id": "90c2f84a-b6ea-449c-a88d-1fcf2ee153c6",
   "metadata": {},
   "source": [
    "### Second Part - Order the data in pandas"
   ]
  },
  {
   "cell_type": "code",
   "execution_count": null,
   "id": "6c59f737-119e-430c-a679-900fd7d3adf8",
   "metadata": {},
   "outputs": [],
   "source": [
    "df = pd.DataFrame(data)\n",
    "df"
   ]
  },
  {
   "cell_type": "code",
   "execution_count": null,
   "id": "f2dda5aa-84be-4b83-ad56-bd24098f941b",
   "metadata": {},
   "outputs": [],
   "source": [
    "df = df[df['name'].str.contains('סקודה')]\n",
    "df"
   ]
  },
  {
   "cell_type": "code",
   "execution_count": null,
   "id": "08ee83ff-21c4-46e1-bbcb-c3dbf1a88bfd",
   "metadata": {},
   "outputs": [],
   "source": [
    "df.info()"
   ]
  },
  {
   "cell_type": "code",
   "execution_count": null,
   "id": "55b3cdd2-dd77-45de-ac8f-c2aa29576ae0",
   "metadata": {},
   "outputs": [],
   "source": []
  },
  {
   "cell_type": "markdown",
   "id": "5813e125-791d-44db-a043-45caf6ac5726",
   "metadata": {},
   "source": [
    "#### Rename"
   ]
  },
  {
   "cell_type": "code",
   "execution_count": null,
   "id": "40c0be06-2c4b-46d8-9a0d-a1d560434c36",
   "metadata": {},
   "outputs": [],
   "source": [
    "df = df[['name','price','ת. הילוכים','יד','נפח','סוג מנוע','ק\"מ','צבע','בעלות קודמת','בעלות נוכחית','אזור','עיר','שנה','Pic_num','Cre_date','Repub_date','Description','טסט עד']]"
   ]
  },
  {
   "cell_type": "code",
   "execution_count": null,
   "id": "9465a730",
   "metadata": {
    "scrolled": true,
    "tags": []
   },
   "outputs": [],
   "source": [
    "old_names = ['name','price','ת. הילוכים','יד','נפח','סוג מנוע','ק\"מ','צבע','בעלות קודמת','בעלות נוכחית','אזור','עיר','שנה','Pic_num','Cre_date','Repub_date','Description','טסט עד']\n",
    "new_names =  ['Name','Price','Gear','Hand','Engine_capacity','Engine_type','Km','Color','Prev_ownership','Curr_ownership','Area','City','Year','Pic_num','Cre_date','Repub_date','Description','Test']\n",
    "name_mapping = dict(zip(old_names, new_names))\n",
    "df = df.rename(columns=name_mapping)\n",
    "df"
   ]
  },
  {
   "cell_type": "code",
   "execution_count": null,
   "id": "ee2194e6-fb05-49e8-a85c-cb41b4c503be",
   "metadata": {},
   "outputs": [],
   "source": []
  },
  {
   "cell_type": "code",
   "execution_count": null,
   "id": "dd8a0d63-c070-4798-9a96-7f42e12f37a2",
   "metadata": {},
   "outputs": [],
   "source": []
  },
  {
   "cell_type": "markdown",
   "id": "b4b52194-dbe3-4cf1-a9b8-f8622ecc347c",
   "metadata": {
    "tags": []
   },
   "source": [
    "### Dtypes Converting :"
   ]
  },
  {
   "cell_type": "code",
   "execution_count": null,
   "id": "beec6f04-1cc1-4f2b-b4de-84c78355fe04",
   "metadata": {},
   "outputs": [],
   "source": [
    "df = df.astype(\"string\")\n",
    "df.dtypes"
   ]
  },
  {
   "cell_type": "code",
   "execution_count": null,
   "id": "79758670-e52f-4036-8d80-260b24a9d410",
   "metadata": {},
   "outputs": [],
   "source": [
    "df[['Manufacturer', 'Model']] = df['Name'].str.split(' ', 1, expand=True)"
   ]
  },
  {
   "cell_type": "code",
   "execution_count": null,
   "id": "f467a7a5-d111-4b52-8aa1-c496ca6c29da",
   "metadata": {},
   "outputs": [],
   "source": []
  },
  {
   "cell_type": "code",
   "execution_count": null,
   "id": "87323e97-4b37-43f7-a8e7-bd0560fc27d8",
   "metadata": {},
   "outputs": [],
   "source": [
    "df = df[[ 'Manufacturer','Model','Price','Gear','Hand','Capacity_engine','Engine_type','Km','Color','Prev_ownership','Curr_ownership','Area','City','Year','Pic_num','Cre_date','Repub_date','Description','Test']]"
   ]
  },
  {
   "cell_type": "code",
   "execution_count": null,
   "id": "e82b3705-3da2-442b-87b2-2f4eaffd483f",
   "metadata": {},
   "outputs": [],
   "source": []
  },
  {
   "cell_type": "code",
   "execution_count": null,
   "id": "9a1d51e6-32da-400b-9425-94ebb4df74a5",
   "metadata": {},
   "outputs": [],
   "source": [
    "df"
   ]
  },
  {
   "cell_type": "code",
   "execution_count": null,
   "id": "1342fc4e-ae3a-4684-b882-7139ceed2392",
   "metadata": {},
   "outputs": [],
   "source": [
    "df['Price'] = df['Price'].str.replace(',', '')\n",
    "df['Price'] = df['Price'].str.replace('₪', '')\n",
    "df['Capacity_engine'] = df['Capacity_engine'].str.replace(',', '')\n",
    "df['Km'] = df['Km'].str.replace(',', '')\n",
    "df['Cre_date'] = df['Cre_date'].str.replace('תאריך יצירה:', '')\n",
    "df['Repub_date'] = df['Repub_date'].str.replace('תאריך הקפצה אחרון:', '')"
   ]
  },
  {
   "cell_type": "code",
   "execution_count": null,
   "id": "4005ddae-5081-48c7-ab73-3c7ee3416515",
   "metadata": {},
   "outputs": [],
   "source": [
    "df"
   ]
  },
  {
   "cell_type": "markdown",
   "id": "890a3a6e-c95a-40fb-8439-762afc8df7d1",
   "metadata": {},
   "source": [
    "#### int"
   ]
  },
  {
   "cell_type": "code",
   "execution_count": null,
   "id": "d4a8291f-9bb3-40f4-a8f0-8536a9a494c4",
   "metadata": {},
   "outputs": [],
   "source": [
    "df['Year'] = df['Year'].astype(int)\n",
    "df['Hand'] = df['Hand'].astype(int)\n",
    "\n",
    "df['Km'] = pd.to_numeric(df['Km'], errors='coerce')\n",
    "df['Km'] = df['Km'].astype('Int64')\n",
    "\n",
    "df['Capacity_engine'] = df['Capacity_engine'].astype(int)\n",
    "df['Pic_num'] = df['Pic_num'].astype(int)"
   ]
  },
  {
   "cell_type": "markdown",
   "id": "3dfbe349-7567-4d9b-9271-84a8fa473079",
   "metadata": {},
   "source": [
    "some of columns in int32 and some of in int64."
   ]
  },
  {
   "cell_type": "code",
   "execution_count": null,
   "id": "5f806775-7daf-471b-8854-d5bff1034f42",
   "metadata": {},
   "outputs": [],
   "source": [
    "print(df.dtypes)"
   ]
  },
  {
   "cell_type": "code",
   "execution_count": null,
   "id": "2c429925-b7e7-47dd-bebb-f7d859bab454",
   "metadata": {},
   "outputs": [],
   "source": []
  },
  {
   "cell_type": "markdown",
   "id": "614b8713-a69a-4fe0-ab3d-bee5f1f1d71f",
   "metadata": {},
   "source": [
    "#### Dates :"
   ]
  },
  {
   "cell_type": "code",
   "execution_count": null,
   "id": "ee7bee87-1db7-4cb4-81f4-e0f106c35f34",
   "metadata": {},
   "outputs": [],
   "source": [
    "df['Cre_date'] = pd.to_datetime(df['Cre_date'])\n",
    "df['Repub_date'] = pd.to_datetime(df['Repub_date'])"
   ]
  },
  {
   "cell_type": "code",
   "execution_count": null,
   "id": "d7bc301f-0016-477a-ac57-ba2272bcb5aa",
   "metadata": {},
   "outputs": [],
   "source": []
  },
  {
   "cell_type": "markdown",
   "id": "f6fef08e-79f0-43da-b6d2-867ff89004c3",
   "metadata": {},
   "source": [
    "#### Category :"
   ]
  },
  {
   "cell_type": "code",
   "execution_count": null,
   "id": "82d5ca39-542b-42f3-b7f7-f773f7bbdde6",
   "metadata": {},
   "outputs": [],
   "source": [
    "lst = ['בנזין', 'דיזל', 'גז', 'היבריד', 'חשמלי']\n",
    "df.loc[df['Engine_type'] == 'טורבו דיזל', 'Engine_type'] = 'דיזל'\n",
    "df.loc[~df['Engine_type'].isin(lst), 'Engine_type'] = None\n",
    "df['Engine_type'] = df['Engine_type'].astype('category')"
   ]
  },
  {
   "cell_type": "code",
   "execution_count": null,
   "id": "982b6b9a-21a9-41cf-8b03-58551d1e81b8",
   "metadata": {},
   "outputs": [],
   "source": []
  },
  {
   "cell_type": "markdown",
   "id": "609281b0-67b5-41e3-b4c0-31c4740dbfe0",
   "metadata": {},
   "source": [
    "Gear"
   ]
  },
  {
   "cell_type": "code",
   "execution_count": null,
   "id": "4fb63af4-39d1-4d69-8e3b-ac55d27ba2bc",
   "metadata": {},
   "outputs": [],
   "source": [
    "unique_values, counts = np.unique(df['Gear'], return_counts=True)\n",
    "value_counts = dict(zip(unique_values, counts))\n",
    "lst1 = list(value_counts.keys())\n",
    "\n",
    "# Set values not in lst1 to None\n",
    "df['Gear'] = df['Gear'].where(df['Gear'].isin(lst1), None)\n",
    "\n",
    "# Convert the 'Gear' column to category type\n",
    "df['Gear'] = df['Gear'].astype('category')"
   ]
  },
  {
   "cell_type": "code",
   "execution_count": null,
   "id": "ce4c27ce-86b2-4e82-b5b1-f7662189766f",
   "metadata": {},
   "outputs": [],
   "source": []
  },
  {
   "cell_type": "markdown",
   "id": "e0365e72-c884-461a-9aee-37013f7b800c",
   "metadata": {},
   "source": [
    "Prev_ownership"
   ]
  },
  {
   "cell_type": "code",
   "execution_count": null,
   "id": "08e4738e-beed-4890-8ac6-2bc9a1079928",
   "metadata": {},
   "outputs": [],
   "source": [
    "lst2 = list(df['Prev_ownership'].unique())\n",
    "df['Prev_ownership'] = df['Prev_ownership'].where(df['Prev_ownership'].isin(lst2), None)\n",
    "df['Prev_ownership'] = df['Prev_ownership'].astype('category')"
   ]
  },
  {
   "cell_type": "code",
   "execution_count": null,
   "id": "48848788-9063-4594-ae69-24b5b59b22cb",
   "metadata": {},
   "outputs": [],
   "source": []
  },
  {
   "cell_type": "markdown",
   "id": "bac8fedf-ad1a-4134-9613-0ac46fcf7b21",
   "metadata": {},
   "source": [
    "Curr_ownership"
   ]
  },
  {
   "cell_type": "code",
   "execution_count": null,
   "id": "1a9c0be5-c995-436a-9ccf-e2a4af755224",
   "metadata": {},
   "outputs": [],
   "source": [
    "lst2 = list(df['Curr_ownership'].unique())\n",
    "df['Curr_ownership'] = df['Curr_ownership'].where(df['Curr_ownership'].isin(lst2), None)\n",
    "df['Curr_ownership'] = df['Curr_ownership'].astype('category')"
   ]
  },
  {
   "cell_type": "code",
   "execution_count": null,
   "id": "fed04015-196c-4bc4-8f33-f6b3a79648f1",
   "metadata": {},
   "outputs": [],
   "source": []
  },
  {
   "cell_type": "markdown",
   "id": "3e355f88-66a1-4fa4-9532-768de4c45194",
   "metadata": {},
   "source": [
    "Test"
   ]
  },
  {
   "cell_type": "code",
   "execution_count": null,
   "id": "429c1be2-f333-40de-b86e-57e392a75ca3",
   "metadata": {},
   "outputs": [],
   "source": [
    "# Convert 'Test' column to datetime\n",
    "df['Test'] = pd.to_datetime(df['Test'], errors='coerce')\n",
    "\n",
    "# Get today's date\n",
    "today = pd.Timestamp('today').normalize()\n",
    "\n",
    "# Calculate the last day of the month for each date in the 'Test' column\n",
    "df['End_of_month'] = df['Test'] + pd.offsets.MonthEnd(0)\n",
    "\n",
    "# Calculate the number of days from today to the end of the month\n",
    "df['Days_to_end_of_month'] = (df['End_of_month'] - today).dt.days\n",
    "\n",
    "# Replace NaN values with None\n",
    "df['Days_to_end_of_month'].where(df['Days_to_end_of_month'].notna(), None, inplace=True)\n",
    "\n",
    "# Convert the 'Days_to_end_of_month' column to integer type\n",
    "df['Test'] = df['Days_to_end_of_month'].astype('Int64')\n",
    "\n",
    "# Drop the 'End_of_month' and 'Days_to_end_of_month' columns as they are no longer needed\n",
    "df = df.drop(columns=['End_of_month', 'Days_to_end_of_month'])\n"
   ]
  },
  {
   "cell_type": "code",
   "execution_count": null,
   "id": "1e04f333-f4c3-4824-a38a-c5b95e4d496e",
   "metadata": {},
   "outputs": [],
   "source": []
  },
  {
   "cell_type": "code",
   "execution_count": null,
   "id": "358948c7-f2be-4913-96ed-23fb28d56397",
   "metadata": {},
   "outputs": [],
   "source": [
    "#check\n",
    "df[[\"Test\"]]"
   ]
  },
  {
   "cell_type": "code",
   "execution_count": null,
   "id": "6b370c50-f6e6-4591-882d-2e0e00d346a9",
   "metadata": {},
   "outputs": [],
   "source": []
  },
  {
   "cell_type": "code",
   "execution_count": 305,
   "id": "719498a2-ef64-4f91-90b9-17df70d79df2",
   "metadata": {},
   "outputs": [],
   "source": [
    "df = df[(df['Year'] >= 2017) & (df['Year'] <= 2024)]"
   ]
  },
  {
   "cell_type": "code",
   "execution_count": 306,
   "id": "0c76fce1-3695-4935-a8de-252687806007",
   "metadata": {},
   "outputs": [
    {
     "data": {
      "text/html": [
       "<div>\n",
       "<style scoped>\n",
       "    .dataframe tbody tr th:only-of-type {\n",
       "        vertical-align: middle;\n",
       "    }\n",
       "\n",
       "    .dataframe tbody tr th {\n",
       "        vertical-align: top;\n",
       "    }\n",
       "\n",
       "    .dataframe thead th {\n",
       "        text-align: right;\n",
       "    }\n",
       "</style>\n",
       "<table border=\"1\" class=\"dataframe\">\n",
       "  <thead>\n",
       "    <tr style=\"text-align: right;\">\n",
       "      <th></th>\n",
       "      <th>Manufacturer</th>\n",
       "      <th>Model</th>\n",
       "      <th>Price</th>\n",
       "      <th>Gear</th>\n",
       "      <th>Hand</th>\n",
       "      <th>Capacity_engine</th>\n",
       "      <th>Engine_type</th>\n",
       "      <th>Km</th>\n",
       "      <th>Color</th>\n",
       "      <th>Prev_ownership</th>\n",
       "      <th>Curr_ownership</th>\n",
       "      <th>Area</th>\n",
       "      <th>City</th>\n",
       "      <th>Year</th>\n",
       "      <th>Pic_num</th>\n",
       "      <th>Cre_date</th>\n",
       "      <th>Repub_date</th>\n",
       "      <th>Description</th>\n",
       "      <th>Test</th>\n",
       "    </tr>\n",
       "  </thead>\n",
       "  <tbody>\n",
       "    <tr>\n",
       "      <th>0</th>\n",
       "      <td>סקודה</td>\n",
       "      <td>סופרב</td>\n",
       "      <td>122000</td>\n",
       "      <td>אוטומטית</td>\n",
       "      <td>2</td>\n",
       "      <td>1500</td>\n",
       "      <td>בנזין</td>\n",
       "      <td>70000</td>\n",
       "      <td>לבן פנינה</td>\n",
       "      <td>פרטית</td>\n",
       "      <td>פרטית</td>\n",
       "      <td>טבריה והסביבה</td>\n",
       "      <td>גבעת אבני</td>\n",
       "      <td>2021</td>\n",
       "      <td>8</td>\n",
       "      <td>2024-08-06</td>\n",
       "      <td>2024-12-06</td>\n",
       "      <td>סקודה סופרב שנת 3/2021, \n",
       "דגם אמבישן, 150 כ\"ס,מ...</td>\n",
       "      <td>291</td>\n",
       "    </tr>\n",
       "    <tr>\n",
       "      <th>1</th>\n",
       "      <td>סקודה</td>\n",
       "      <td>אוקטביה</td>\n",
       "      <td>50000</td>\n",
       "      <td>אוטומטית</td>\n",
       "      <td>2</td>\n",
       "      <td>2000</td>\n",
       "      <td>דיזל</td>\n",
       "      <td>155000</td>\n",
       "      <td>לבן</td>\n",
       "      <td>מונית</td>\n",
       "      <td>פרטית</td>\n",
       "      <td>אשדוד - אשקלון</td>\n",
       "      <td>אשדוד</td>\n",
       "      <td>2018</td>\n",
       "      <td>2</td>\n",
       "      <td>2024-11-06</td>\n",
       "      <td>2024-11-06</td>\n",
       "      <td>סקודה אוקטביה 2018 מונית שעבר 155,000 ק״מ הרכב...</td>\n",
       "      <td>79</td>\n",
       "    </tr>\n",
       "    <tr>\n",
       "      <th>2</th>\n",
       "      <td>סקודה</td>\n",
       "      <td>אוקטביה ספייס</td>\n",
       "      <td>65000</td>\n",
       "      <td>אוטומטית</td>\n",
       "      <td>2</td>\n",
       "      <td>1500</td>\n",
       "      <td>בנזין</td>\n",
       "      <td>170000</td>\n",
       "      <td>לבן</td>\n",
       "      <td>חברה</td>\n",
       "      <td>פרטית</td>\n",
       "      <td>ראשל\"צ והסביבה</td>\n",
       "      <td>באר יעקב</td>\n",
       "      <td>2019</td>\n",
       "      <td>4</td>\n",
       "      <td>2024-05-24</td>\n",
       "      <td>2024-05-24</td>\n",
       "      <td>המנוע הכי מוצלח 1.5 עם 150 כ''ס סטיישן רכב מעו...</td>\n",
       "      <td>79</td>\n",
       "    </tr>\n",
       "    <tr>\n",
       "      <th>3</th>\n",
       "      <td>סקודה</td>\n",
       "      <td>אוקטביה</td>\n",
       "      <td>116000</td>\n",
       "      <td>אוטומטית</td>\n",
       "      <td>2</td>\n",
       "      <td>1800</td>\n",
       "      <td>בנזין</td>\n",
       "      <td>57000</td>\n",
       "      <td>שחור</td>\n",
       "      <td>פרטית</td>\n",
       "      <td>פרטית</td>\n",
       "      <td>ראש העין והסביבה</td>\n",
       "      <td>ראש העין</td>\n",
       "      <td>2019</td>\n",
       "      <td>6</td>\n",
       "      <td>2024-01-05</td>\n",
       "      <td>2024-01-05</td>\n",
       "      <td>סקודה קארוק סטייל שחורה נדירה. קילומטר נמוך מא...</td>\n",
       "      <td>201</td>\n",
       "    </tr>\n",
       "    <tr>\n",
       "      <th>10</th>\n",
       "      <td>סקודה</td>\n",
       "      <td>אוקטביה</td>\n",
       "      <td>65000</td>\n",
       "      <td>אוטומטית</td>\n",
       "      <td>1</td>\n",
       "      <td>1400</td>\n",
       "      <td>בנזין</td>\n",
       "      <td>&lt;NA&gt;</td>\n",
       "      <td>לבן</td>\n",
       "      <td>פרטית</td>\n",
       "      <td>פרטית</td>\n",
       "      <td>חולון - בת ים</td>\n",
       "      <td>בת ים</td>\n",
       "      <td>2018</td>\n",
       "      <td>5</td>\n",
       "      <td>2023-10-09</td>\n",
       "      <td>2024-11-03</td>\n",
       "      <td>שמורה היטה! במצב מעולה\n",
       "ללא תאונות רכב מפנק במיוחד</td>\n",
       "      <td>&lt;NA&gt;</td>\n",
       "    </tr>\n",
       "    <tr>\n",
       "      <th>...</th>\n",
       "      <td>...</td>\n",
       "      <td>...</td>\n",
       "      <td>...</td>\n",
       "      <td>...</td>\n",
       "      <td>...</td>\n",
       "      <td>...</td>\n",
       "      <td>...</td>\n",
       "      <td>...</td>\n",
       "      <td>...</td>\n",
       "      <td>...</td>\n",
       "      <td>...</td>\n",
       "      <td>...</td>\n",
       "      <td>...</td>\n",
       "      <td>...</td>\n",
       "      <td>...</td>\n",
       "      <td>...</td>\n",
       "      <td>...</td>\n",
       "      <td>...</td>\n",
       "      <td>...</td>\n",
       "    </tr>\n",
       "    <tr>\n",
       "      <th>250</th>\n",
       "      <td>סקודה</td>\n",
       "      <td>סופרב</td>\n",
       "      <td>145000</td>\n",
       "      <td>אוטומטית</td>\n",
       "      <td>2</td>\n",
       "      <td>1800</td>\n",
       "      <td>בנזין</td>\n",
       "      <td>80000</td>\n",
       "      <td>חום</td>\n",
       "      <td>פרטית</td>\n",
       "      <td>פרטית</td>\n",
       "      <td>חיפה וחוף הכרמל</td>\n",
       "      <td>חיפה</td>\n",
       "      <td>2017</td>\n",
       "      <td>1</td>\n",
       "      <td>2021-12-14</td>\n",
       "      <td>2021-12-14</td>\n",
       "      <td>רכב שמור 80אלף ק״ם!! \n",
       "עם סטייג 1 תוכנת ניהול ל...</td>\n",
       "      <td>&lt;NA&gt;</td>\n",
       "    </tr>\n",
       "    <tr>\n",
       "      <th>255</th>\n",
       "      <td>סקודה</td>\n",
       "      <td>סופרב</td>\n",
       "      <td>220000</td>\n",
       "      <td>אוטומטית</td>\n",
       "      <td>2</td>\n",
       "      <td>2000</td>\n",
       "      <td>בנזין</td>\n",
       "      <td>70000</td>\n",
       "      <td>&lt;NA&gt;</td>\n",
       "      <td>&lt;NA&gt;</td>\n",
       "      <td>&lt;NA&gt;</td>\n",
       "      <td>תל אביב</td>\n",
       "      <td>תל אביב יפו</td>\n",
       "      <td>2019</td>\n",
       "      <td>0</td>\n",
       "      <td>2022-04-21</td>\n",
       "      <td>2022-04-21</td>\n",
       "      <td>רכב שמור עם ספר טיפולים. נאלץ למכור עקב קבלת ר...</td>\n",
       "      <td>&lt;NA&gt;</td>\n",
       "    </tr>\n",
       "    <tr>\n",
       "      <th>256</th>\n",
       "      <td>סקודה</td>\n",
       "      <td>ראפיד</td>\n",
       "      <td>59000</td>\n",
       "      <td>אוטומטית</td>\n",
       "      <td>2</td>\n",
       "      <td>1200</td>\n",
       "      <td>בנזין</td>\n",
       "      <td>150000</td>\n",
       "      <td>&lt;NA&gt;</td>\n",
       "      <td>&lt;NA&gt;</td>\n",
       "      <td>&lt;NA&gt;</td>\n",
       "      <td>חיפה וחוף הכרמל</td>\n",
       "      <td>חיפה</td>\n",
       "      <td>2017</td>\n",
       "      <td>0</td>\n",
       "      <td>2022-04-18</td>\n",
       "      <td>2022-04-18</td>\n",
       "      <td>סקודה ראפיד שנת 2017, שמורה היטב ומטופלת קבוע,...</td>\n",
       "      <td>&lt;NA&gt;</td>\n",
       "    </tr>\n",
       "    <tr>\n",
       "      <th>257</th>\n",
       "      <td>סקודה</td>\n",
       "      <td>אוקטביה</td>\n",
       "      <td>45000</td>\n",
       "      <td>אוטומטית</td>\n",
       "      <td>1</td>\n",
       "      <td>1600</td>\n",
       "      <td>בנזין</td>\n",
       "      <td>40000</td>\n",
       "      <td>שחור</td>\n",
       "      <td>פרטית</td>\n",
       "      <td>פרטית</td>\n",
       "      <td>תל אביב</td>\n",
       "      <td>תל אביב יפו</td>\n",
       "      <td>2018</td>\n",
       "      <td>0</td>\n",
       "      <td>2022-02-28</td>\n",
       "      <td>2022-01-03</td>\n",
       "      <td>דרושים לעבודות תמלול, קלדנות כתיבה, הזנת תוכן,...</td>\n",
       "      <td>&lt;NA&gt;</td>\n",
       "    </tr>\n",
       "    <tr>\n",
       "      <th>260</th>\n",
       "      <td>סקודה</td>\n",
       "      <td>סופרב</td>\n",
       "      <td>102000</td>\n",
       "      <td>אוטומטית</td>\n",
       "      <td>1</td>\n",
       "      <td>1800</td>\n",
       "      <td>בנזין</td>\n",
       "      <td>135000</td>\n",
       "      <td>ירוק</td>\n",
       "      <td>פרטית</td>\n",
       "      <td>פרטית</td>\n",
       "      <td>חיפה וחוף הכרמל</td>\n",
       "      <td>אום אל פחם</td>\n",
       "      <td>2017</td>\n",
       "      <td>0</td>\n",
       "      <td>2023-11-03</td>\n",
       "      <td>2023-10-03</td>\n",
       "      <td></td>\n",
       "      <td>&lt;NA&gt;</td>\n",
       "    </tr>\n",
       "  </tbody>\n",
       "</table>\n",
       "<p>96 rows × 19 columns</p>\n",
       "</div>"
      ],
      "text/plain": [
       "    Manufacturer          Model    Price      Gear  Hand  Capacity_engine  \\\n",
       "0          סקודה          סופרב  122000   אוטומטית     2             1500   \n",
       "1          סקודה        אוקטביה   50000   אוטומטית     2             2000   \n",
       "2          סקודה  אוקטביה ספייס   65000   אוטומטית     2             1500   \n",
       "3          סקודה        אוקטביה  116000   אוטומטית     2             1800   \n",
       "10         סקודה        אוקטביה   65000   אוטומטית     1             1400   \n",
       "..           ...            ...      ...       ...   ...              ...   \n",
       "250        סקודה          סופרב  145000   אוטומטית     2             1800   \n",
       "255        סקודה          סופרב  220000   אוטומטית     2             2000   \n",
       "256        סקודה          ראפיד   59000   אוטומטית     2             1200   \n",
       "257        סקודה        אוקטביה   45000   אוטומטית     1             1600   \n",
       "260        סקודה          סופרב  102000   אוטומטית     1             1800   \n",
       "\n",
       "    Engine_type      Km      Color Prev_ownership Curr_ownership  \\\n",
       "0         בנזין   70000  לבן פנינה          פרטית          פרטית   \n",
       "1          דיזל  155000        לבן          מונית          פרטית   \n",
       "2         בנזין  170000        לבן           חברה          פרטית   \n",
       "3         בנזין   57000       שחור          פרטית          פרטית   \n",
       "10        בנזין    <NA>        לבן          פרטית          פרטית   \n",
       "..          ...     ...        ...            ...            ...   \n",
       "250       בנזין   80000        חום          פרטית          פרטית   \n",
       "255       בנזין   70000       <NA>           <NA>           <NA>   \n",
       "256       בנזין  150000       <NA>           <NA>           <NA>   \n",
       "257       בנזין   40000       שחור          פרטית          פרטית   \n",
       "260       בנזין  135000       ירוק          פרטית          פרטית   \n",
       "\n",
       "                 Area         City  Year  Pic_num   Cre_date Repub_date  \\\n",
       "0       טבריה והסביבה    גבעת אבני  2021        8 2024-08-06 2024-12-06   \n",
       "1      אשדוד - אשקלון        אשדוד  2018        2 2024-11-06 2024-11-06   \n",
       "2      ראשל\"צ והסביבה     באר יעקב  2019        4 2024-05-24 2024-05-24   \n",
       "3    ראש העין והסביבה     ראש העין  2019        6 2024-01-05 2024-01-05   \n",
       "10      חולון - בת ים        בת ים  2018        5 2023-10-09 2024-11-03   \n",
       "..                ...          ...   ...      ...        ...        ...   \n",
       "250   חיפה וחוף הכרמל         חיפה  2017        1 2021-12-14 2021-12-14   \n",
       "255           תל אביב  תל אביב יפו  2019        0 2022-04-21 2022-04-21   \n",
       "256   חיפה וחוף הכרמל         חיפה  2017        0 2022-04-18 2022-04-18   \n",
       "257           תל אביב  תל אביב יפו  2018        0 2022-02-28 2022-01-03   \n",
       "260   חיפה וחוף הכרמל   אום אל פחם  2017        0 2023-11-03 2023-10-03   \n",
       "\n",
       "                                           Description  Test  \n",
       "0    סקודה סופרב שנת 3/2021, \n",
       "דגם אמבישן, 150 כ\"ס,מ...   291  \n",
       "1    סקודה אוקטביה 2018 מונית שעבר 155,000 ק״מ הרכב...    79  \n",
       "2    המנוע הכי מוצלח 1.5 עם 150 כ''ס סטיישן רכב מעו...    79  \n",
       "3    סקודה קארוק סטייל שחורה נדירה. קילומטר נמוך מא...   201  \n",
       "10   שמורה היטה! במצב מעולה\n",
       "ללא תאונות רכב מפנק במיוחד  <NA>  \n",
       "..                                                 ...   ...  \n",
       "250  רכב שמור 80אלף ק״ם!! \n",
       "עם סטייג 1 תוכנת ניהול ל...  <NA>  \n",
       "255  רכב שמור עם ספר טיפולים. נאלץ למכור עקב קבלת ר...  <NA>  \n",
       "256  סקודה ראפיד שנת 2017, שמורה היטב ומטופלת קבוע,...  <NA>  \n",
       "257  דרושים לעבודות תמלול, קלדנות כתיבה, הזנת תוכן,...  <NA>  \n",
       "260                                                     <NA>  \n",
       "\n",
       "[96 rows x 19 columns]"
      ]
     },
     "execution_count": 306,
     "metadata": {},
     "output_type": "execute_result"
    }
   ],
   "source": [
    "df"
   ]
  },
  {
   "cell_type": "code",
   "execution_count": null,
   "id": "898d5a5f-6207-4f2f-afd6-85287512a5d5",
   "metadata": {},
   "outputs": [],
   "source": []
  },
  {
   "cell_type": "markdown",
   "id": "84f52dfc-e60b-4592-8be8-4a8e6a404048",
   "metadata": {},
   "source": [
    "# הערות :"
   ]
  },
  {
   "cell_type": "markdown",
   "id": "2ff8bf51-f990-42d7-a004-bf47ecb020df",
   "metadata": {
    "tags": []
   },
   "source": [
    "#### בחרתי את סדר העמודות בצורה זו שהיא הכי נוחה לעבודה עבורי"
   ]
  },
  {
   "cell_type": "markdown",
   "id": "a5276410-4640-44e7-9a4e-a7a24262e4ad",
   "metadata": {},
   "source": [
    "#### in the data i have col \"Name\" contain \"סקודה אוקטביה\" i can sep it by code bellow , but i prefer it like this.\n",
    "#### the code : \n",
    "#### df[['Manufacturer', 'Model']] = df['Name'].str.split(n=1, expand=True)"
   ]
  },
  {
   "cell_type": "code",
   "execution_count": null,
   "id": "0cf55a74-5095-4ce3-838a-b556edcc0a96",
   "metadata": {},
   "outputs": [],
   "source": []
  },
  {
   "cell_type": "code",
   "execution_count": 307,
   "id": "1e604d39-315a-485b-bfc5-2205fb9a318b",
   "metadata": {},
   "outputs": [],
   "source": [
    "# Save DataFrame to CSV\n",
    "df.to_csv('Tal_DF.csv', index=False)"
   ]
  },
  {
   "cell_type": "code",
   "execution_count": null,
   "id": "8bb96a53-ea38-4bfe-bbf0-b59d2f716def",
   "metadata": {},
   "outputs": [],
   "source": []
  }
 ],
 "metadata": {
  "kernelspec": {
   "display_name": "Python 3 (ipykernel)",
   "language": "python",
   "name": "python3"
  },
  "language_info": {
   "codemirror_mode": {
    "name": "ipython",
    "version": 3
   },
   "file_extension": ".py",
   "mimetype": "text/x-python",
   "name": "python",
   "nbconvert_exporter": "python",
   "pygments_lexer": "ipython3",
   "version": "3.10.5"
  }
 },
 "nbformat": 4,
 "nbformat_minor": 5
}
